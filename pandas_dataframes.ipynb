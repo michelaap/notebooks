{
 "cells": [
  {
   "cell_type": "markdown",
   "metadata": {},
   "source": [
    "## DataFrames"
   ]
  },
  {
   "cell_type": "code",
   "execution_count": 1,
   "metadata": {},
   "outputs": [],
   "source": [
    "import pandas as pd\n",
    "import numpy as np"
   ]
  },
  {
   "cell_type": "code",
   "execution_count": 2,
   "metadata": {},
   "outputs": [],
   "source": [
    "stock = {\n",
    "    'AMZN': pd.Series([346.15, 0.59, 459, 0.52, 589.8, 158.88], index = ['Closing price','EPS', 'Shares Outstanding(M)', 'Beta', 'P/E', 'Market Cap(B)']),\n",
    "    'GOOG': pd.Series([1133.43, 36.05, 335.83, 0.87,31.44,380.64], index = ['Closing price', 'EPS', 'Shares Outstanding(M)', 'Beta','P/E','Market Cap(B)']),\n",
    "    'FB': pd.Series([61.48, 0.59, 2450, 104.93, 150.92], index = ['Closing price', 'EPS', 'Shares Outstanding(M)', 'P/E', 'Market Cap(B)']),\n",
    "    'YHOO': pd.Series([34.90, 1.27, 1010, 27.48, 0.66, 35.36], index =['Closing price', 'EPS', 'Shares Outstanding(M)', 'P/E','Beta', 'Market Cap(B)']),\n",
    "    'TWTR': pd.Series([65.25, -0.3, 555.2, 36.23], index = ['Closing price', 'EPS', 'Shares Outstanding(M)', 'Market Cap(B)']),\n",
    "    'AAPL': pd.Series([501.53, 40.32, 892.45, 12.44, 447.59, 0.84], index = ['Closing price', 'EPS', 'Shares Outstanding(M)', 'P/E', 'Market Cap(B)', 'Beta'])\n",
    "}"
   ]
  },
  {
   "cell_type": "code",
   "execution_count": 3,
   "metadata": {},
   "outputs": [],
   "source": [
    "stock_df = pd.DataFrame(stock)"
   ]
  },
  {
   "cell_type": "code",
   "execution_count": 4,
   "metadata": {},
   "outputs": [
    {
     "data": {
      "text/html": [
       "<div>\n",
       "<style scoped>\n",
       "    .dataframe tbody tr th:only-of-type {\n",
       "        vertical-align: middle;\n",
       "    }\n",
       "\n",
       "    .dataframe tbody tr th {\n",
       "        vertical-align: top;\n",
       "    }\n",
       "\n",
       "    .dataframe thead th {\n",
       "        text-align: right;\n",
       "    }\n",
       "</style>\n",
       "<table border=\"1\" class=\"dataframe\">\n",
       "  <thead>\n",
       "    <tr style=\"text-align: right;\">\n",
       "      <th></th>\n",
       "      <th>AMZN</th>\n",
       "      <th>GOOG</th>\n",
       "      <th>FB</th>\n",
       "      <th>YHOO</th>\n",
       "      <th>TWTR</th>\n",
       "      <th>AAPL</th>\n",
       "    </tr>\n",
       "  </thead>\n",
       "  <tbody>\n",
       "    <tr>\n",
       "      <th>Beta</th>\n",
       "      <td>0.52</td>\n",
       "      <td>0.87</td>\n",
       "      <td>NaN</td>\n",
       "      <td>0.66</td>\n",
       "      <td>NaN</td>\n",
       "      <td>0.84</td>\n",
       "    </tr>\n",
       "    <tr>\n",
       "      <th>Closing price</th>\n",
       "      <td>346.15</td>\n",
       "      <td>1133.43</td>\n",
       "      <td>61.48</td>\n",
       "      <td>34.90</td>\n",
       "      <td>65.25</td>\n",
       "      <td>501.53</td>\n",
       "    </tr>\n",
       "    <tr>\n",
       "      <th>EPS</th>\n",
       "      <td>0.59</td>\n",
       "      <td>36.05</td>\n",
       "      <td>0.59</td>\n",
       "      <td>1.27</td>\n",
       "      <td>-0.30</td>\n",
       "      <td>40.32</td>\n",
       "    </tr>\n",
       "    <tr>\n",
       "      <th>Market Cap(B)</th>\n",
       "      <td>158.88</td>\n",
       "      <td>380.64</td>\n",
       "      <td>150.92</td>\n",
       "      <td>35.36</td>\n",
       "      <td>36.23</td>\n",
       "      <td>447.59</td>\n",
       "    </tr>\n",
       "    <tr>\n",
       "      <th>P/E</th>\n",
       "      <td>589.80</td>\n",
       "      <td>31.44</td>\n",
       "      <td>104.93</td>\n",
       "      <td>27.48</td>\n",
       "      <td>NaN</td>\n",
       "      <td>12.44</td>\n",
       "    </tr>\n",
       "    <tr>\n",
       "      <th>Shares Outstanding(M)</th>\n",
       "      <td>459.00</td>\n",
       "      <td>335.83</td>\n",
       "      <td>2450.00</td>\n",
       "      <td>1010.00</td>\n",
       "      <td>555.20</td>\n",
       "      <td>892.45</td>\n",
       "    </tr>\n",
       "  </tbody>\n",
       "</table>\n",
       "</div>"
      ],
      "text/plain": [
       "                         AMZN     GOOG       FB     YHOO    TWTR    AAPL\n",
       "Beta                     0.52     0.87      NaN     0.66     NaN    0.84\n",
       "Closing price          346.15  1133.43    61.48    34.90   65.25  501.53\n",
       "EPS                      0.59    36.05     0.59     1.27   -0.30   40.32\n",
       "Market Cap(B)          158.88   380.64   150.92    35.36   36.23  447.59\n",
       "P/E                    589.80    31.44   104.93    27.48     NaN   12.44\n",
       "Shares Outstanding(M)  459.00   335.83  2450.00  1010.00  555.20  892.45"
      ]
     },
     "execution_count": 4,
     "metadata": {},
     "output_type": "execute_result"
    }
   ],
   "source": [
    "stock_df"
   ]
  },
  {
   "cell_type": "code",
   "execution_count": 5,
   "metadata": {},
   "outputs": [],
   "source": [
    "stock_df = pd.DataFrame(stock, index = [\n",
    "    'Closing price',\n",
    "    'EPS',\n",
    "    'Shares Outstanding(M)',\n",
    "    'P/E',\n",
    "    'Market Cap(B)',\n",
    "    'Beta'\n",
    "])"
   ]
  },
  {
   "cell_type": "code",
   "execution_count": 6,
   "metadata": {},
   "outputs": [
    {
     "data": {
      "text/html": [
       "<div>\n",
       "<style scoped>\n",
       "    .dataframe tbody tr th:only-of-type {\n",
       "        vertical-align: middle;\n",
       "    }\n",
       "\n",
       "    .dataframe tbody tr th {\n",
       "        vertical-align: top;\n",
       "    }\n",
       "\n",
       "    .dataframe thead th {\n",
       "        text-align: right;\n",
       "    }\n",
       "</style>\n",
       "<table border=\"1\" class=\"dataframe\">\n",
       "  <thead>\n",
       "    <tr style=\"text-align: right;\">\n",
       "      <th></th>\n",
       "      <th>AMZN</th>\n",
       "      <th>GOOG</th>\n",
       "      <th>FB</th>\n",
       "      <th>YHOO</th>\n",
       "      <th>TWTR</th>\n",
       "      <th>AAPL</th>\n",
       "    </tr>\n",
       "  </thead>\n",
       "  <tbody>\n",
       "    <tr>\n",
       "      <th>Closing price</th>\n",
       "      <td>346.15</td>\n",
       "      <td>1133.43</td>\n",
       "      <td>61.48</td>\n",
       "      <td>34.90</td>\n",
       "      <td>65.25</td>\n",
       "      <td>501.53</td>\n",
       "    </tr>\n",
       "    <tr>\n",
       "      <th>EPS</th>\n",
       "      <td>0.59</td>\n",
       "      <td>36.05</td>\n",
       "      <td>0.59</td>\n",
       "      <td>1.27</td>\n",
       "      <td>-0.30</td>\n",
       "      <td>40.32</td>\n",
       "    </tr>\n",
       "    <tr>\n",
       "      <th>Shares Outstanding(M)</th>\n",
       "      <td>459.00</td>\n",
       "      <td>335.83</td>\n",
       "      <td>2450.00</td>\n",
       "      <td>1010.00</td>\n",
       "      <td>555.20</td>\n",
       "      <td>892.45</td>\n",
       "    </tr>\n",
       "    <tr>\n",
       "      <th>P/E</th>\n",
       "      <td>589.80</td>\n",
       "      <td>31.44</td>\n",
       "      <td>104.93</td>\n",
       "      <td>27.48</td>\n",
       "      <td>NaN</td>\n",
       "      <td>12.44</td>\n",
       "    </tr>\n",
       "    <tr>\n",
       "      <th>Market Cap(B)</th>\n",
       "      <td>158.88</td>\n",
       "      <td>380.64</td>\n",
       "      <td>150.92</td>\n",
       "      <td>35.36</td>\n",
       "      <td>36.23</td>\n",
       "      <td>447.59</td>\n",
       "    </tr>\n",
       "    <tr>\n",
       "      <th>Beta</th>\n",
       "      <td>0.52</td>\n",
       "      <td>0.87</td>\n",
       "      <td>NaN</td>\n",
       "      <td>0.66</td>\n",
       "      <td>NaN</td>\n",
       "      <td>0.84</td>\n",
       "    </tr>\n",
       "  </tbody>\n",
       "</table>\n",
       "</div>"
      ],
      "text/plain": [
       "                         AMZN     GOOG       FB     YHOO    TWTR    AAPL\n",
       "Closing price          346.15  1133.43    61.48    34.90   65.25  501.53\n",
       "EPS                      0.59    36.05     0.59     1.27   -0.30   40.32\n",
       "Shares Outstanding(M)  459.00   335.83  2450.00  1010.00  555.20  892.45\n",
       "P/E                    589.80    31.44   104.93    27.48     NaN   12.44\n",
       "Market Cap(B)          158.88   380.64   150.92    35.36   36.23  447.59\n",
       "Beta                     0.52     0.87      NaN     0.66     NaN    0.84"
      ]
     },
     "execution_count": 6,
     "metadata": {},
     "output_type": "execute_result"
    }
   ],
   "source": [
    "stock_df"
   ]
  },
  {
   "cell_type": "code",
   "execution_count": 7,
   "metadata": {},
   "outputs": [],
   "source": [
    "stock_df = pd.DataFrame(\n",
    "    stock, \n",
    "    index = ['Closing price', 'EPS', 'Shares Outstanding(M)', 'P/E', 'Market Cap(B)', 'Beta'],\n",
    "    columns = ['FB', 'TWTR', 'SCNW']\n",
    ")"
   ]
  },
  {
   "cell_type": "code",
   "execution_count": 8,
   "metadata": {},
   "outputs": [
    {
     "data": {
      "text/html": [
       "<div>\n",
       "<style scoped>\n",
       "    .dataframe tbody tr th:only-of-type {\n",
       "        vertical-align: middle;\n",
       "    }\n",
       "\n",
       "    .dataframe tbody tr th {\n",
       "        vertical-align: top;\n",
       "    }\n",
       "\n",
       "    .dataframe thead th {\n",
       "        text-align: right;\n",
       "    }\n",
       "</style>\n",
       "<table border=\"1\" class=\"dataframe\">\n",
       "  <thead>\n",
       "    <tr style=\"text-align: right;\">\n",
       "      <th></th>\n",
       "      <th>FB</th>\n",
       "      <th>TWTR</th>\n",
       "      <th>SCNW</th>\n",
       "    </tr>\n",
       "  </thead>\n",
       "  <tbody>\n",
       "    <tr>\n",
       "      <th>Closing price</th>\n",
       "      <td>61.48</td>\n",
       "      <td>65.25</td>\n",
       "      <td>NaN</td>\n",
       "    </tr>\n",
       "    <tr>\n",
       "      <th>EPS</th>\n",
       "      <td>0.59</td>\n",
       "      <td>-0.30</td>\n",
       "      <td>NaN</td>\n",
       "    </tr>\n",
       "    <tr>\n",
       "      <th>Shares Outstanding(M)</th>\n",
       "      <td>2450.00</td>\n",
       "      <td>555.20</td>\n",
       "      <td>NaN</td>\n",
       "    </tr>\n",
       "    <tr>\n",
       "      <th>P/E</th>\n",
       "      <td>104.93</td>\n",
       "      <td>NaN</td>\n",
       "      <td>NaN</td>\n",
       "    </tr>\n",
       "    <tr>\n",
       "      <th>Market Cap(B)</th>\n",
       "      <td>150.92</td>\n",
       "      <td>36.23</td>\n",
       "      <td>NaN</td>\n",
       "    </tr>\n",
       "    <tr>\n",
       "      <th>Beta</th>\n",
       "      <td>NaN</td>\n",
       "      <td>NaN</td>\n",
       "      <td>NaN</td>\n",
       "    </tr>\n",
       "  </tbody>\n",
       "</table>\n",
       "</div>"
      ],
      "text/plain": [
       "                            FB    TWTR SCNW\n",
       "Closing price            61.48   65.25  NaN\n",
       "EPS                       0.59   -0.30  NaN\n",
       "Shares Outstanding(M)  2450.00  555.20  NaN\n",
       "P/E                     104.93     NaN  NaN\n",
       "Market Cap(B)           150.92   36.23  NaN\n",
       "Beta                       NaN     NaN  NaN"
      ]
     },
     "execution_count": 8,
     "metadata": {},
     "output_type": "execute_result"
    }
   ],
   "source": [
    "stock_df"
   ]
  },
  {
   "cell_type": "code",
   "execution_count": 9,
   "metadata": {},
   "outputs": [
    {
     "data": {
      "text/plain": [
       "Index(['Closing price', 'EPS', 'Shares Outstanding(M)', 'P/E', 'Market Cap(B)',\n",
       "       'Beta'],\n",
       "      dtype='object')"
      ]
     },
     "execution_count": 9,
     "metadata": {},
     "output_type": "execute_result"
    }
   ],
   "source": [
    "stock_df.index"
   ]
  },
  {
   "cell_type": "code",
   "execution_count": 10,
   "metadata": {},
   "outputs": [
    {
     "data": {
      "text/plain": [
       "Index(['FB', 'TWTR', 'SCNW'], dtype='object')"
      ]
     },
     "execution_count": 10,
     "metadata": {},
     "output_type": "execute_result"
    }
   ],
   "source": [
    "stock_df.columns"
   ]
  },
  {
   "cell_type": "code",
   "execution_count": null,
   "metadata": {},
   "outputs": [],
   "source": []
  }
 ],
 "metadata": {
  "kernelspec": {
   "display_name": "Python 3",
   "language": "python",
   "name": "python3"
  },
  "language_info": {
   "codemirror_mode": {
    "name": "ipython",
    "version": 3
   },
   "file_extension": ".py",
   "mimetype": "text/x-python",
   "name": "python",
   "nbconvert_exporter": "python",
   "pygments_lexer": "ipython3",
   "version": "3.8.5"
  }
 },
 "nbformat": 4,
 "nbformat_minor": 4
}
