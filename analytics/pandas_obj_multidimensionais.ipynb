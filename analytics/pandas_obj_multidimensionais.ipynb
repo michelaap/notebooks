{
 "cells": [
  {
   "cell_type": "markdown",
   "metadata": {},
   "source": [
    "## Objetos Multidimensionais"
   ]
  },
  {
   "cell_type": "code",
   "execution_count": 1,
   "metadata": {},
   "outputs": [],
   "source": [
    "import pandas as pd\n",
    "import numpy as np"
   ]
  },
  {
   "cell_type": "code",
   "execution_count": 2,
   "metadata": {},
   "outputs": [],
   "source": [
    "stockData = np.array([[[63.03,61.48,75],\n",
    "                      [62.05,62.75,46],\n",
    "                      [62.74,62.19,53]],     \n",
    "                      [[411.90, 404.38, 2.9],\n",
    "                      [405.45, 405.91, 2.6],\n",
    "                      [403.15, 404.42, 2.4]]])"
   ]
  },
  {
   "cell_type": "code",
   "execution_count": 3,
   "metadata": {},
   "outputs": [
    {
     "data": {
      "text/plain": [
       "array([[[ 63.03,  61.48,  75.  ],\n",
       "        [ 62.05,  62.75,  46.  ],\n",
       "        [ 62.74,  62.19,  53.  ]],\n",
       "\n",
       "       [[411.9 , 404.38,   2.9 ],\n",
       "        [405.45, 405.91,   2.6 ],\n",
       "        [403.15, 404.42,   2.4 ]]])"
      ]
     },
     "execution_count": 3,
     "metadata": {},
     "output_type": "execute_result"
    }
   ],
   "source": [
    "stockData"
   ]
  },
  {
   "cell_type": "code",
   "execution_count": 4,
   "metadata": {},
   "outputs": [
    {
     "data": {
      "text/plain": [
       "numpy.ndarray"
      ]
     },
     "execution_count": 4,
     "metadata": {},
     "output_type": "execute_result"
    }
   ],
   "source": [
    "type(stockData)"
   ]
  },
  {
   "cell_type": "markdown",
   "metadata": {},
   "source": [
    "## Criando um DataFrame a partir de um Dicionário"
   ]
  },
  {
   "cell_type": "code",
   "execution_count": 5,
   "metadata": {},
   "outputs": [],
   "source": [
    "USData = pd.DataFrame(np.array([[249.62, 8900],\n",
    "                               [282.16, 12680],\n",
    "                               [309.35, 14940]]),\n",
    "                     columns = ['População(M)', 'PIB($B)'],\n",
    "                     index = [1995, 2005, 2015])"
   ]
  },
  {
   "cell_type": "code",
   "execution_count": 6,
   "metadata": {},
   "outputs": [
    {
     "data": {
      "text/html": [
       "<div>\n",
       "<style scoped>\n",
       "    .dataframe tbody tr th:only-of-type {\n",
       "        vertical-align: middle;\n",
       "    }\n",
       "\n",
       "    .dataframe tbody tr th {\n",
       "        vertical-align: top;\n",
       "    }\n",
       "\n",
       "    .dataframe thead th {\n",
       "        text-align: right;\n",
       "    }\n",
       "</style>\n",
       "<table border=\"1\" class=\"dataframe\">\n",
       "  <thead>\n",
       "    <tr style=\"text-align: right;\">\n",
       "      <th></th>\n",
       "      <th>População(M)</th>\n",
       "      <th>PIB($B)</th>\n",
       "    </tr>\n",
       "  </thead>\n",
       "  <tbody>\n",
       "    <tr>\n",
       "      <th>1995</th>\n",
       "      <td>249.62</td>\n",
       "      <td>8900.0</td>\n",
       "    </tr>\n",
       "    <tr>\n",
       "      <th>2005</th>\n",
       "      <td>282.16</td>\n",
       "      <td>12680.0</td>\n",
       "    </tr>\n",
       "    <tr>\n",
       "      <th>2015</th>\n",
       "      <td>309.35</td>\n",
       "      <td>14940.0</td>\n",
       "    </tr>\n",
       "  </tbody>\n",
       "</table>\n",
       "</div>"
      ],
      "text/plain": [
       "      População(M)  PIB($B)\n",
       "1995        249.62   8900.0\n",
       "2005        282.16  12680.0\n",
       "2015        309.35  14940.0"
      ]
     },
     "execution_count": 6,
     "metadata": {},
     "output_type": "execute_result"
    }
   ],
   "source": [
    "USData"
   ]
  },
  {
   "cell_type": "code",
   "execution_count": 7,
   "metadata": {},
   "outputs": [],
   "source": [
    "ChinaData = pd.DataFrame(np.array([[1133.68, 390.28],\n",
    "                               [1266.83, 1198.48],\n",
    "                               [1339.72, 9923.47]]),\n",
    "                     columns = ['População(M)', 'PIB($B)'],\n",
    "                     index = [1995, 2005, 2015])"
   ]
  },
  {
   "cell_type": "code",
   "execution_count": 8,
   "metadata": {},
   "outputs": [
    {
     "data": {
      "text/html": [
       "<div>\n",
       "<style scoped>\n",
       "    .dataframe tbody tr th:only-of-type {\n",
       "        vertical-align: middle;\n",
       "    }\n",
       "\n",
       "    .dataframe tbody tr th {\n",
       "        vertical-align: top;\n",
       "    }\n",
       "\n",
       "    .dataframe thead th {\n",
       "        text-align: right;\n",
       "    }\n",
       "</style>\n",
       "<table border=\"1\" class=\"dataframe\">\n",
       "  <thead>\n",
       "    <tr style=\"text-align: right;\">\n",
       "      <th></th>\n",
       "      <th>População(M)</th>\n",
       "      <th>PIB($B)</th>\n",
       "    </tr>\n",
       "  </thead>\n",
       "  <tbody>\n",
       "    <tr>\n",
       "      <th>1995</th>\n",
       "      <td>1133.68</td>\n",
       "      <td>390.28</td>\n",
       "    </tr>\n",
       "    <tr>\n",
       "      <th>2005</th>\n",
       "      <td>1266.83</td>\n",
       "      <td>1198.48</td>\n",
       "    </tr>\n",
       "    <tr>\n",
       "      <th>2015</th>\n",
       "      <td>1339.72</td>\n",
       "      <td>9923.47</td>\n",
       "    </tr>\n",
       "  </tbody>\n",
       "</table>\n",
       "</div>"
      ],
      "text/plain": [
       "      População(M)  PIB($B)\n",
       "1995       1133.68   390.28\n",
       "2005       1266.83  1198.48\n",
       "2015       1339.72  9923.47"
      ]
     },
     "execution_count": 8,
     "metadata": {},
     "output_type": "execute_result"
    }
   ],
   "source": [
    "ChinaData"
   ]
  },
  {
   "cell_type": "code",
   "execution_count": 9,
   "metadata": {},
   "outputs": [],
   "source": [
    "US_ChinaData = { 'US': USData, 'China': ChinaData }"
   ]
  },
  {
   "cell_type": "code",
   "execution_count": 10,
   "metadata": {},
   "outputs": [
    {
     "data": {
      "text/plain": [
       "{'US':       População(M)  PIB($B)\n",
       " 1995        249.62   8900.0\n",
       " 2005        282.16  12680.0\n",
       " 2015        309.35  14940.0,\n",
       " 'China':       População(M)  PIB($B)\n",
       " 1995       1133.68   390.28\n",
       " 2005       1266.83  1198.48\n",
       " 2015       1339.72  9923.47}"
      ]
     },
     "execution_count": 10,
     "metadata": {},
     "output_type": "execute_result"
    }
   ],
   "source": [
    "US_ChinaData"
   ]
  },
  {
   "cell_type": "markdown",
   "metadata": {},
   "source": [
    "## MultiIndex"
   ]
  },
  {
   "cell_type": "code",
   "execution_count": 11,
   "metadata": {},
   "outputs": [],
   "source": [
    "mIdx = pd.MultiIndex(levels = [['US', 'China'], [1995,2005, 2015]],\n",
    "                     codes = [[1,1,1,0,0,0], [0,1,2,0,1,2]])"
   ]
  },
  {
   "cell_type": "code",
   "execution_count": 12,
   "metadata": {},
   "outputs": [],
   "source": [
    "ChinaUSDF = pd.DataFrame({'População(M)' : [1133.68, 1266.83, 1339.72, 249.62, 282.16,309.35],\n",
    "                              'PIB($B)': [390.28, 1198.48, 6988.47, 8900,12680,14940]}, \n",
    "                             index = mIdx)"
   ]
  },
  {
   "cell_type": "code",
   "execution_count": 13,
   "metadata": {},
   "outputs": [
    {
     "data": {
      "text/html": [
       "<div>\n",
       "<style scoped>\n",
       "    .dataframe tbody tr th:only-of-type {\n",
       "        vertical-align: middle;\n",
       "    }\n",
       "\n",
       "    .dataframe tbody tr th {\n",
       "        vertical-align: top;\n",
       "    }\n",
       "\n",
       "    .dataframe thead th {\n",
       "        text-align: right;\n",
       "    }\n",
       "</style>\n",
       "<table border=\"1\" class=\"dataframe\">\n",
       "  <thead>\n",
       "    <tr style=\"text-align: right;\">\n",
       "      <th></th>\n",
       "      <th></th>\n",
       "      <th>População(M)</th>\n",
       "      <th>PIB($B)</th>\n",
       "    </tr>\n",
       "  </thead>\n",
       "  <tbody>\n",
       "    <tr>\n",
       "      <th rowspan=\"3\" valign=\"top\">China</th>\n",
       "      <th>1995</th>\n",
       "      <td>1133.68</td>\n",
       "      <td>390.28</td>\n",
       "    </tr>\n",
       "    <tr>\n",
       "      <th>2005</th>\n",
       "      <td>1266.83</td>\n",
       "      <td>1198.48</td>\n",
       "    </tr>\n",
       "    <tr>\n",
       "      <th>2015</th>\n",
       "      <td>1339.72</td>\n",
       "      <td>6988.47</td>\n",
       "    </tr>\n",
       "    <tr>\n",
       "      <th rowspan=\"3\" valign=\"top\">US</th>\n",
       "      <th>1995</th>\n",
       "      <td>249.62</td>\n",
       "      <td>8900.00</td>\n",
       "    </tr>\n",
       "    <tr>\n",
       "      <th>2005</th>\n",
       "      <td>282.16</td>\n",
       "      <td>12680.00</td>\n",
       "    </tr>\n",
       "    <tr>\n",
       "      <th>2015</th>\n",
       "      <td>309.35</td>\n",
       "      <td>14940.00</td>\n",
       "    </tr>\n",
       "  </tbody>\n",
       "</table>\n",
       "</div>"
      ],
      "text/plain": [
       "            População(M)   PIB($B)\n",
       "China 1995       1133.68    390.28\n",
       "      2005       1266.83   1198.48\n",
       "      2015       1339.72   6988.47\n",
       "US    1995        249.62   8900.00\n",
       "      2005        282.16  12680.00\n",
       "      2015        309.35  14940.00"
      ]
     },
     "execution_count": 13,
     "metadata": {},
     "output_type": "execute_result"
    }
   ],
   "source": [
    "ChinaUSDF"
   ]
  }
 ],
 "metadata": {
  "kernelspec": {
   "display_name": "Python 3",
   "language": "python",
   "name": "python3"
  },
  "language_info": {
   "codemirror_mode": {
    "name": "ipython",
    "version": 3
   },
   "file_extension": ".py",
   "mimetype": "text/x-python",
   "name": "python",
   "nbconvert_exporter": "python",
   "pygments_lexer": "ipython3",
   "version": "3.8.5"
  }
 },
 "nbformat": 4,
 "nbformat_minor": 4
}
