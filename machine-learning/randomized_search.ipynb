{
 "cells": [
  {
   "cell_type": "markdown",
   "metadata": {},
   "source": [
    "# Extremely Randomized Forest"
   ]
  },
  {
   "cell_type": "code",
   "execution_count": 1,
   "metadata": {},
   "outputs": [
    {
     "name": "stdout",
     "output_type": "stream",
     "text": [
      "Requirement already up-to-date: scikit-learn in /opt/anaconda3/lib/python3.8/site-packages (0.24.1)\n",
      "Requirement already satisfied, skipping upgrade: scipy>=0.19.1 in /opt/anaconda3/lib/python3.8/site-packages (from scikit-learn) (1.6.2)\n",
      "Requirement already satisfied, skipping upgrade: joblib>=0.11 in /opt/anaconda3/lib/python3.8/site-packages (from scikit-learn) (0.17.0)\n",
      "Requirement already satisfied, skipping upgrade: numpy>=1.13.3 in /opt/anaconda3/lib/python3.8/site-packages (from scikit-learn) (1.19.2)\n",
      "Requirement already satisfied, skipping upgrade: threadpoolctl>=2.0.0 in /opt/anaconda3/lib/python3.8/site-packages (from scikit-learn) (2.1.0)\n"
     ]
    }
   ],
   "source": [
    "!pip install -U scikit-learn"
   ]
  },
  {
   "cell_type": "code",
   "execution_count": 2,
   "metadata": {},
   "outputs": [],
   "source": [
    "import pandas as pd\n",
    "import numpy as np\n",
    "from sklearn.ensemble import ExtraTreesClassifier\n",
    "from sklearn.model_selection import cross_val_score\n",
    "from sklearn.model_selection import train_test_split\n",
    "from sklearn.datasets import load_digits\n",
    "from sklearn.preprocessing import scale\n",
    "from sklearn.metrics import confusion_matrix\n",
    "from sklearn.metrics import accuracy_score"
   ]
  },
  {
   "cell_type": "code",
   "execution_count": 3,
   "metadata": {},
   "outputs": [],
   "source": [
    "# Carregando o dataset\n",
    "data = pd.read_excel('./data/credit.xls', skiprows = 1)"
   ]
  },
  {
   "cell_type": "code",
   "execution_count": 4,
   "metadata": {},
   "outputs": [],
   "source": [
    "# Variável target\n",
    "target = 'default payment next month'\n",
    "y = np.asarray(data[target])"
   ]
  },
  {
   "cell_type": "code",
   "execution_count": 5,
   "metadata": {},
   "outputs": [],
   "source": [
    "# Variáveis preditoras\n",
    "features = data.columns.drop(['ID', target])\n",
    "x = np.asarray(data[features])"
   ]
  },
  {
   "cell_type": "code",
   "execution_count": 6,
   "metadata": {},
   "outputs": [],
   "source": [
    "# Dataset de treino e de teste\n",
    "x_train, x_test, y_train, y_test = train_test_split(x, y, test_size = 0.30, random_state = 99)"
   ]
  },
  {
   "cell_type": "code",
   "execution_count": 7,
   "metadata": {},
   "outputs": [],
   "source": [
    "# Classificador\n",
    "clf = ExtraTreesClassifier(n_estimators = 500, random_state = 99)"
   ]
  },
  {
   "cell_type": "code",
   "execution_count": 8,
   "metadata": {},
   "outputs": [
    {
     "data": {
      "text/plain": [
       "ExtraTreesClassifier(n_estimators=500, random_state=99)"
      ]
     },
     "execution_count": 8,
     "metadata": {},
     "output_type": "execute_result"
    }
   ],
   "source": [
    "# Modelo\n",
    "clf.fit(x_train, y_train)"
   ]
  },
  {
   "cell_type": "code",
   "execution_count": 9,
   "metadata": {},
   "outputs": [],
   "source": [
    "# Score\n",
    "scores = cross_val_score(clf, x_train, y_train, cv = 3, scoring = 'accuracy', n_jobs = -1)"
   ]
  },
  {
   "cell_type": "code",
   "execution_count": 10,
   "metadata": {},
   "outputs": [
    {
     "name": "stdout",
     "output_type": "stream",
     "text": [
      "ExtraTreesClassifier -> Acurácia: Média = 0.812 Desvio Padrão = 0.002\n"
     ]
    }
   ],
   "source": [
    "# Imprimindo o resultado\n",
    "print(\"ExtraTreesClassifier -> Acurácia: Média = %0.3f Desvio Padrão = %0.3f\" % (np.mean(scores), np.std(scores)))"
   ]
  },
  {
   "cell_type": "code",
   "execution_count": 11,
   "metadata": {},
   "outputs": [],
   "source": [
    "# Fazendo previsões\n",
    "y_pred = clf.predict(x_test)"
   ]
  },
  {
   "cell_type": "code",
   "execution_count": 12,
   "metadata": {},
   "outputs": [
    {
     "name": "stdout",
     "output_type": "stream",
     "text": [
      "[[6532  446]\n",
      " [1273  749]]\n"
     ]
    }
   ],
   "source": [
    "# Confusion Matrix\n",
    "_confusion_matrix = confusion_matrix(y_test, y_pred)\n",
    "print(_confusion_matrix)"
   ]
  },
  {
   "cell_type": "code",
   "execution_count": 13,
   "metadata": {},
   "outputs": [
    {
     "data": {
      "text/plain": [
       "0.809"
      ]
     },
     "execution_count": 13,
     "metadata": {},
     "output_type": "execute_result"
    }
   ],
   "source": [
    "# Acurácia\n",
    "accuracy_score(y_test, y_pred)"
   ]
  },
  {
   "cell_type": "markdown",
   "metadata": {},
   "source": [
    "## Otimização dos Parâmetros com Randomized Search"
   ]
  },
  {
   "cell_type": "markdown",
   "metadata": {},
   "source": [
    "O Randomized Search gera amostras dos parâmetros dos algoritmos a partir de uma distribuição randômica uniforme para um número fixo de interações. Um modelo é construído e testado para cada combinação de parâmetros."
   ]
  },
  {
   "cell_type": "code",
   "execution_count": 14,
   "metadata": {},
   "outputs": [],
   "source": [
    "from sklearn.model_selection import RandomizedSearchCV"
   ]
  },
  {
   "cell_type": "code",
   "execution_count": 15,
   "metadata": {},
   "outputs": [
    {
     "name": "stdout",
     "output_type": "stream",
     "text": [
      "ExtraTreesClassifier(max_depth=7, max_features=22, min_samples_leaf=4,\n",
      "                     min_samples_split=14, n_estimators=500, random_state=99)\n",
      "[[6651  327]\n",
      " [1293  729]]\n",
      "0.82\n"
     ]
    }
   ],
   "source": [
    "# Definição dos parâmetros\n",
    "param_dist = {\n",
    "    'max_depth': [1, 3, 7, 8, 12, None],\n",
    "    'max_features': [8, 9, 10, 11, 16, 22],\n",
    "    'min_samples_split': [8, 10, 11, 14, 16, 19],\n",
    "    'min_samples_leaf': [1, 2, 3, 4, 5, 6, 7],\n",
    "    'bootstrap': [True, False]\n",
    "}\n",
    "\n",
    "# Para o classificador criado na célula anterior, testamos diferentes combinações de parâmetros\n",
    "rsearch = RandomizedSearchCV(clf, param_distributions = param_dist, n_iter = 25)\n",
    "\n",
    "# Aplicando o resultado ao conjunto de dados de treino e obtendo o score\n",
    "rsearch.fit(x_train, y_train)\n",
    "rsearch.cv_results_\n",
    "\n",
    "# Imprimindo o melhor estmador\n",
    "bestclf = rsearch.best_estimator_\n",
    "print(bestclf)\n",
    "\n",
    "# Aplicando o melhor estimador para realizar as previsões\n",
    "y_pred = bestclf.predict(x_test)\n",
    "\n",
    "# Confusion Matrix\n",
    "_confusion_matrix = confusion_matrix(y_test, y_pred)\n",
    "print(_confusion_matrix)\n",
    "\n",
    "# Acurácia\n",
    "accuracy = accuracy_score(y_test, y_pred)\n",
    "print(accuracy)"
   ]
  },
  {
   "cell_type": "code",
   "execution_count": 16,
   "metadata": {},
   "outputs": [
    {
     "data": {
      "text/plain": [
       "{'mean_fit_time': array([ 0.8617794 ,  2.82891197,  1.15419421,  2.35185604,  4.792138  ,\n",
       "         2.01504698,  2.46505451,  3.15514479,  4.82129602,  7.17904058,\n",
       "         5.47414804,  1.13973179,  4.1660006 ,  1.33798723,  6.07389603,\n",
       "         1.36740513,  2.97899981, 11.60043378,  2.2287848 ,  2.2996789 ,\n",
       "         2.03707299,  1.48857117,  3.83514605,  3.79627948,  1.42383313]),\n",
       " 'std_fit_time': array([0.00540284, 0.01336565, 0.00664007, 0.01149424, 0.01604412,\n",
       "        0.01079323, 0.01590787, 0.01006008, 0.02611425, 0.06962546,\n",
       "        0.08144506, 0.02028258, 0.03226233, 0.017388  , 0.03589271,\n",
       "        0.01502587, 0.00888411, 0.14529175, 0.02062152, 0.01640906,\n",
       "        0.02127965, 0.02289078, 0.02409919, 0.01736145, 0.0235708 ]),\n",
       " 'mean_score_time': array([0.07591519, 0.12023025, 0.08575873, 0.0892005 , 0.1235146 ,\n",
       "        0.12145705, 0.12931747, 0.13076138, 0.27223625, 0.29228177,\n",
       "        0.27044992, 0.07449679, 0.13440523, 0.08876801, 0.27236991,\n",
       "        0.0882143 , 0.16979642, 0.26294255, 0.11864715, 0.12921267,\n",
       "        0.08817606, 0.08894706, 0.16788521, 0.17606931, 0.08767605]),\n",
       " 'std_score_time': array([0.00080805, 0.00111517, 0.0188774 , 0.00039523, 0.00135608,\n",
       "        0.00118244, 0.00136462, 0.00156418, 0.00111479, 0.0021245 ,\n",
       "        0.00263571, 0.00082363, 0.0083956 , 0.00145708, 0.00168205,\n",
       "        0.00052805, 0.00096753, 0.00231036, 0.00072293, 0.00176719,\n",
       "        0.0007183 , 0.00066081, 0.00307052, 0.00925109, 0.00154708]),\n",
       " 'param_min_samples_split': masked_array(data=[16, 19, 11, 14, 14, 14, 10, 11, 11, 14, 10, 11, 14, 19,\n",
       "                    19, 19, 8, 14, 8, 8, 16, 14, 16, 10, 16],\n",
       "              mask=[False, False, False, False, False, False, False, False,\n",
       "                    False, False, False, False, False, False, False, False,\n",
       "                    False, False, False, False, False, False, False, False,\n",
       "                    False],\n",
       "        fill_value='?',\n",
       "             dtype=object),\n",
       " 'param_min_samples_leaf': masked_array(data=[4, 2, 2, 4, 4, 6, 3, 6, 2, 2, 2, 4, 2, 7, 3, 1, 7, 6,\n",
       "                    4, 4, 7, 6, 2, 6, 6],\n",
       "              mask=[False, False, False, False, False, False, False, False,\n",
       "                    False, False, False, False, False, False, False, False,\n",
       "                    False, False, False, False, False, False, False, False,\n",
       "                    False],\n",
       "        fill_value='?',\n",
       "             dtype=object),\n",
       " 'param_max_features': masked_array(data=[10, 11, 16, 22, 22, 8, 10, 11, 9, 10, 11, 22, 16, 8, 9,\n",
       "                    9, 9, 22, 10, 9, 22, 11, 9, 9, 10],\n",
       "              mask=[False, False, False, False, False, False, False, False,\n",
       "                    False, False, False, False, False, False, False, False,\n",
       "                    False, False, False, False, False, False, False, False,\n",
       "                    False],\n",
       "        fill_value='?',\n",
       "             dtype=object),\n",
       " 'param_max_depth': masked_array(data=[1, 7, 1, 3, 7, 7, 8, 8, None, None, None, 1, 8, 3,\n",
       "                    None, 3, 12, None, 7, 8, 3, 3, 12, 12, 3],\n",
       "              mask=[False, False, False, False, False, False, False, False,\n",
       "                    False, False, False, False, False, False, False, False,\n",
       "                    False, False, False, False, False, False, False, False,\n",
       "                    False],\n",
       "        fill_value='?',\n",
       "             dtype=object),\n",
       " 'param_bootstrap': masked_array(data=[False, False, True, False, False, True, True, False,\n",
       "                    True, False, True, False, False, True, False, False,\n",
       "                    True, False, True, True, True, True, False, False,\n",
       "                    True],\n",
       "              mask=[False, False, False, False, False, False, False, False,\n",
       "                    False, False, False, False, False, False, False, False,\n",
       "                    False, False, False, False, False, False, False, False,\n",
       "                    False],\n",
       "        fill_value='?',\n",
       "             dtype=object),\n",
       " 'params': [{'min_samples_split': 16,\n",
       "   'min_samples_leaf': 4,\n",
       "   'max_features': 10,\n",
       "   'max_depth': 1,\n",
       "   'bootstrap': False},\n",
       "  {'min_samples_split': 19,\n",
       "   'min_samples_leaf': 2,\n",
       "   'max_features': 11,\n",
       "   'max_depth': 7,\n",
       "   'bootstrap': False},\n",
       "  {'min_samples_split': 11,\n",
       "   'min_samples_leaf': 2,\n",
       "   'max_features': 16,\n",
       "   'max_depth': 1,\n",
       "   'bootstrap': True},\n",
       "  {'min_samples_split': 14,\n",
       "   'min_samples_leaf': 4,\n",
       "   'max_features': 22,\n",
       "   'max_depth': 3,\n",
       "   'bootstrap': False},\n",
       "  {'min_samples_split': 14,\n",
       "   'min_samples_leaf': 4,\n",
       "   'max_features': 22,\n",
       "   'max_depth': 7,\n",
       "   'bootstrap': False},\n",
       "  {'min_samples_split': 14,\n",
       "   'min_samples_leaf': 6,\n",
       "   'max_features': 8,\n",
       "   'max_depth': 7,\n",
       "   'bootstrap': True},\n",
       "  {'min_samples_split': 10,\n",
       "   'min_samples_leaf': 3,\n",
       "   'max_features': 10,\n",
       "   'max_depth': 8,\n",
       "   'bootstrap': True},\n",
       "  {'min_samples_split': 11,\n",
       "   'min_samples_leaf': 6,\n",
       "   'max_features': 11,\n",
       "   'max_depth': 8,\n",
       "   'bootstrap': False},\n",
       "  {'min_samples_split': 11,\n",
       "   'min_samples_leaf': 2,\n",
       "   'max_features': 9,\n",
       "   'max_depth': None,\n",
       "   'bootstrap': True},\n",
       "  {'min_samples_split': 14,\n",
       "   'min_samples_leaf': 2,\n",
       "   'max_features': 10,\n",
       "   'max_depth': None,\n",
       "   'bootstrap': False},\n",
       "  {'min_samples_split': 10,\n",
       "   'min_samples_leaf': 2,\n",
       "   'max_features': 11,\n",
       "   'max_depth': None,\n",
       "   'bootstrap': True},\n",
       "  {'min_samples_split': 11,\n",
       "   'min_samples_leaf': 4,\n",
       "   'max_features': 22,\n",
       "   'max_depth': 1,\n",
       "   'bootstrap': False},\n",
       "  {'min_samples_split': 14,\n",
       "   'min_samples_leaf': 2,\n",
       "   'max_features': 16,\n",
       "   'max_depth': 8,\n",
       "   'bootstrap': False},\n",
       "  {'min_samples_split': 19,\n",
       "   'min_samples_leaf': 7,\n",
       "   'max_features': 8,\n",
       "   'max_depth': 3,\n",
       "   'bootstrap': True},\n",
       "  {'min_samples_split': 19,\n",
       "   'min_samples_leaf': 3,\n",
       "   'max_features': 9,\n",
       "   'max_depth': None,\n",
       "   'bootstrap': False},\n",
       "  {'min_samples_split': 19,\n",
       "   'min_samples_leaf': 1,\n",
       "   'max_features': 9,\n",
       "   'max_depth': 3,\n",
       "   'bootstrap': False},\n",
       "  {'min_samples_split': 8,\n",
       "   'min_samples_leaf': 7,\n",
       "   'max_features': 9,\n",
       "   'max_depth': 12,\n",
       "   'bootstrap': True},\n",
       "  {'min_samples_split': 14,\n",
       "   'min_samples_leaf': 6,\n",
       "   'max_features': 22,\n",
       "   'max_depth': None,\n",
       "   'bootstrap': False},\n",
       "  {'min_samples_split': 8,\n",
       "   'min_samples_leaf': 4,\n",
       "   'max_features': 10,\n",
       "   'max_depth': 7,\n",
       "   'bootstrap': True},\n",
       "  {'min_samples_split': 8,\n",
       "   'min_samples_leaf': 4,\n",
       "   'max_features': 9,\n",
       "   'max_depth': 8,\n",
       "   'bootstrap': True},\n",
       "  {'min_samples_split': 16,\n",
       "   'min_samples_leaf': 7,\n",
       "   'max_features': 22,\n",
       "   'max_depth': 3,\n",
       "   'bootstrap': True},\n",
       "  {'min_samples_split': 14,\n",
       "   'min_samples_leaf': 6,\n",
       "   'max_features': 11,\n",
       "   'max_depth': 3,\n",
       "   'bootstrap': True},\n",
       "  {'min_samples_split': 16,\n",
       "   'min_samples_leaf': 2,\n",
       "   'max_features': 9,\n",
       "   'max_depth': 12,\n",
       "   'bootstrap': False},\n",
       "  {'min_samples_split': 10,\n",
       "   'min_samples_leaf': 6,\n",
       "   'max_features': 9,\n",
       "   'max_depth': 12,\n",
       "   'bootstrap': False},\n",
       "  {'min_samples_split': 16,\n",
       "   'min_samples_leaf': 6,\n",
       "   'max_features': 10,\n",
       "   'max_depth': 3,\n",
       "   'bootstrap': True}],\n",
       " 'split0_test_score': array([0.7802381 , 0.82642857, 0.78095238, 0.82      , 0.83      ,\n",
       "        0.81714286, 0.82666667, 0.82738095, 0.8252381 , 0.82404762,\n",
       "        0.82571429, 0.78357143, 0.82833333, 0.80333333, 0.82595238,\n",
       "        0.80595238, 0.82571429, 0.82309524, 0.82547619, 0.82404762,\n",
       "        0.8202381 , 0.80761905, 0.82833333, 0.82809524, 0.80690476]),\n",
       " 'split1_test_score': array([0.7802381 , 0.81785714, 0.78      , 0.8102381 , 0.81833333,\n",
       "        0.81309524, 0.81714286, 0.81809524, 0.81952381, 0.81595238,\n",
       "        0.81738095, 0.78119048, 0.81857143, 0.7947619 , 0.81809524,\n",
       "        0.7947619 , 0.81785714, 0.81452381, 0.81690476, 0.81380952,\n",
       "        0.81      , 0.79571429, 0.81833333, 0.81857143, 0.79619048]),\n",
       " 'split2_test_score': array([0.7802381 , 0.8202381 , 0.78119048, 0.81190476, 0.81738095,\n",
       "        0.81261905, 0.81904762, 0.81952381, 0.82071429, 0.81738095,\n",
       "        0.81904762, 0.78261905, 0.81857143, 0.80119048, 0.81880952,\n",
       "        0.80095238, 0.82071429, 0.81833333, 0.81809524, 0.81833333,\n",
       "        0.81238095, 0.80261905, 0.82      , 0.81904762, 0.80166667]),\n",
       " 'split3_test_score': array([0.7802381 , 0.82357143, 0.78      , 0.8147619 , 0.82452381,\n",
       "        0.81261905, 0.82261905, 0.82119048, 0.81857143, 0.8202381 ,\n",
       "        0.82      , 0.78380952, 0.8247619 , 0.79714286, 0.81738095,\n",
       "        0.79880952, 0.82095238, 0.81761905, 0.81666667, 0.81642857,\n",
       "        0.8147619 , 0.80047619, 0.82285714, 0.82166667, 0.79928571]),\n",
       " 'split4_test_score': array([0.78047619, 0.81809524, 0.78142857, 0.81404762, 0.81904762,\n",
       "        0.81166667, 0.81785714, 0.81785714, 0.82095238, 0.8202381 ,\n",
       "        0.81928571, 0.78333333, 0.81809524, 0.79880952, 0.81928571,\n",
       "        0.79809524, 0.81809524, 0.81785714, 0.81571429, 0.81690476,\n",
       "        0.81428571, 0.80095238, 0.81880952, 0.81761905, 0.79952381]),\n",
       " 'mean_test_score': array([0.78028571, 0.8212381 , 0.78071429, 0.81419048, 0.82185714,\n",
       "        0.81342857, 0.82066667, 0.82080952, 0.821     , 0.81957143,\n",
       "        0.82028571, 0.78290476, 0.82166667, 0.79904762, 0.81990476,\n",
       "        0.79971429, 0.82066667, 0.81828571, 0.81857143, 0.81790476,\n",
       "        0.81433333, 0.80147619, 0.82166667, 0.821     , 0.80071429]),\n",
       " 'std_test_score': array([9.52380952e-05, 3.30738197e-03, 6.02338602e-04, 3.31491510e-03,\n",
       "        4.76999313e-03, 1.91426202e-03, 3.54242189e-03, 3.49473203e-03,\n",
       "        2.28571429e-03, 2.78642645e-03, 2.84680670e-03, 9.45211107e-04,\n",
       "        4.14586645e-03, 3.00037791e-03, 3.09193963e-03, 3.69899171e-03,\n",
       "        2.83083123e-03, 2.75368234e-03, 3.53473211e-03, 3.40201354e-03,\n",
       "        3.39534161e-03, 3.83444231e-03, 3.68548049e-03, 3.79282052e-03,\n",
       "        3.55392536e-03]),\n",
       " 'rank_test_score': array([25,  4, 24, 17,  1, 18,  8,  7,  5, 12, 10, 23,  2, 22, 11, 21,  8,\n",
       "        14, 13, 15, 16, 19,  2,  5, 20], dtype=int32)}"
      ]
     },
     "execution_count": 16,
     "metadata": {},
     "output_type": "execute_result"
    }
   ],
   "source": [
    "rsearch.cv_results_"
   ]
  },
  {
   "cell_type": "code",
   "execution_count": null,
   "metadata": {},
   "outputs": [],
   "source": []
  }
 ],
 "metadata": {
  "kernelspec": {
   "display_name": "Python 3",
   "language": "python",
   "name": "python3"
  },
  "language_info": {
   "codemirror_mode": {
    "name": "ipython",
    "version": 3
   },
   "file_extension": ".py",
   "mimetype": "text/x-python",
   "name": "python",
   "nbconvert_exporter": "python",
   "pygments_lexer": "ipython3",
   "version": "3.8.5"
  }
 },
 "nbformat": 4,
 "nbformat_minor": 4
}
